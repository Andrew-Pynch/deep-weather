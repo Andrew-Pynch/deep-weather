{
 "cells": [
  {
   "cell_type": "code",
   "execution_count": 14,
   "metadata": {},
   "outputs": [],
   "source": [
    "import geopandas as gpd\n",
    "import matplotlib.pyplot as plt"
   ]
  },
  {
   "cell_type": "markdown",
   "metadata": {},
   "source": [
    "# GeodataFrame & Geoseries"
   ]
  },
  {
   "cell_type": "code",
   "execution_count": 7,
   "metadata": {},
   "outputs": [],
   "source": [
    "countries = gpd.read_file('1-introData/countries.gpkg')\n",
    "cities = gpd.read_file('1-introData/cities.geojson')"
   ]
  },
  {
   "cell_type": "markdown",
   "metadata": {},
   "source": [
    "# DataFrame vs GeoDataFrame\n",
    "\n",
    "# GeoDataFrame\n",
    "- ### Contains a GeoSeries\n",
    "- Always has one GeoSeries column that holds a special status. This GeoSeries is referred to as the GeoDataFrames \"geometry\"\n",
    "- Anytime you apply a spatial method to this dataframe, it will act on the aforementioned geometry column"
   ]
  },
  {
   "cell_type": "markdown",
   "metadata": {},
   "source": [
    "# Regular DataFrame vs GeoDataFrame"
   ]
  },
  {
   "cell_type": "code",
   "execution_count": 11,
   "metadata": {},
   "outputs": [
    {
     "name": "stdout",
     "output_type": "stream",
     "text": [
      "<class 'pandas.core.frame.DataFrame'>\n",
      "<class 'geopandas.geodataframe.GeoDataFrame'>\n"
     ]
    }
   ],
   "source": [
    "dataFrame = countries[['NAME', 'POP_EST']]\n",
    "\n",
    "dataFrame.head()\n",
    "print(type(dataFrame))\n",
    "\n",
    "geoDataFrame = countries[['geometry', 'NAME']]\n",
    "geoDataFrame.head()\n",
    "print(type(geoDataFrame))"
   ]
  },
  {
   "cell_type": "code",
   "execution_count": 13,
   "metadata": {},
   "outputs": [
    {
     "name": "stdout",
     "output_type": "stream",
     "text": [
      "<class 'pandas.core.series.Series'>\n",
      "<class 'geopandas.geoseries.GeoSeries'>\n"
     ]
    }
   ],
   "source": [
    "series = countries['NAME']\n",
    "series[:5]\n",
    "print(type(series))\n",
    "\n",
    "geoSeries = countries['geometry']\n",
    "print(type(geoSeries))"
   ]
  },
  {
   "cell_type": "code",
   "execution_count": 15,
   "metadata": {},
   "outputs": [
    {
     "name": "stderr",
     "output_type": "stream",
     "text": [
      "<ipython-input-15-cfa1b40ec873>:2: UserWarning: Geometry is in a geographic CRS. Results from 'centroid' are likely incorrect. Use 'GeoSeries.to_crs()' to re-project geometries to a projected CRS before this operation.\n",
      "\n",
      "  geoDataFrame.centroid.plot(ax=ax)\n"
     ]
    },
    {
     "data": {
      "image/png": "[encoded data removed]",
      "text/plain": [
       "<Figure size 864x864 with 1 Axes>"
      ]
     },
     "metadata": {
      "needs_background": "light"
     },
     "output_type": "display_data"
    }
   ],
   "source": [
    "fig, ax = plt.subplots(figsize=(12,12))\n",
    "geoDataFrame.centroid.plot(ax=ax)\n",
    "plt.tight_layout()"
   ]
  },
  {
   "cell_type": "markdown",
   "metadata": {},
   "source": [
    "# Table Join vs Spatial Join"
   ]
  },
  {
   "cell_type": "code",
   "execution_count": 19,
   "metadata": {},
   "outputs": [],
   "source": [
    "country_shapes = countries[['geometry', 'NAME']]\n",
    "\n",
    "country_names = countries[['NAME', 'POP_EST']]\n",
    "\n",
    "country_merged = country_shapes.merge(country_names, on='NAME', how='left')"
   ]
  },
  {
   "cell_type": "code",
   "execution_count": 24,
   "metadata": {},
   "outputs": [
    {
     "data": {
      "text/html": [
       "<div>\n",
       "<style scoped>\n",
       "    .dataframe tbody tr th:only-of-type {\n",
       "        vertical-align: middle;\n",
       "    }\n",
       "\n",
       "    .dataframe tbody tr th {\n",
       "        vertical-align: top;\n",
       "    }\n",
       "\n",
       "    .dataframe thead th {\n",
       "        text-align: right;\n",
       "    }\n",
       "</style>\n",
       "<table border=\"1\" class=\"dataframe\">\n",
       "  <thead>\n",
       "    <tr style=\"text-align: right;\">\n",
       "      <th></th>\n",
       "      <th>name</th>\n",
       "      <th>geometry</th>\n",
       "      <th>index_right</th>\n",
       "      <th>NAME</th>\n",
       "    </tr>\n",
       "  </thead>\n",
       "  <tbody>\n",
       "    <tr>\n",
       "      <th>4264</th>\n",
       "      <td>Baturité</td>\n",
       "      <td>POINT (-38.87999 -4.32957)</td>\n",
       "      <td>45</td>\n",
       "      <td>Brazil</td>\n",
       "    </tr>\n",
       "    <tr>\n",
       "      <th>2272</th>\n",
       "      <td>Phayao</td>\n",
       "      <td>POINT (99.90831 19.17070)</td>\n",
       "      <td>110</td>\n",
       "      <td>Thailand</td>\n",
       "    </tr>\n",
       "    <tr>\n",
       "      <th>7065</th>\n",
       "      <td>Marabá</td>\n",
       "      <td>POINT (-49.11598 -5.34997)</td>\n",
       "      <td>45</td>\n",
       "      <td>Brazil</td>\n",
       "    </tr>\n",
       "    <tr>\n",
       "      <th>386</th>\n",
       "      <td>Dabola</td>\n",
       "      <td>POINT (-11.10900 10.74800)</td>\n",
       "      <td>83</td>\n",
       "      <td>Guinea</td>\n",
       "    </tr>\n",
       "    <tr>\n",
       "      <th>197</th>\n",
       "      <td>Dandeldhura</td>\n",
       "      <td>POINT (80.60000 29.30000)</td>\n",
       "      <td>143</td>\n",
       "      <td>Nepal</td>\n",
       "    </tr>\n",
       "  </tbody>\n",
       "</table>\n",
       "</div>"
      ],
      "text/plain": [
       "             name                    geometry  index_right      NAME\n",
       "4264     Baturité  POINT (-38.87999 -4.32957)           45    Brazil\n",
       "2272       Phayao   POINT (99.90831 19.17070)          110  Thailand\n",
       "7065       Marabá  POINT (-49.11598 -5.34997)           45    Brazil\n",
       "386        Dabola  POINT (-11.10900 10.74800)           83    Guinea\n",
       "197   Dandeldhura   POINT (80.60000 29.30000)          143     Nepal"
      ]
     },
     "execution_count": 24,
     "metadata": {},
     "output_type": "execute_result"
    }
   ],
   "source": [
    "# This gdf holds the geometry and country names\n",
    "country_names = countries[['geometry', 'NAME']]\n",
    "\n",
    "# This gdf holds the geometry and city names\n",
    "cities_names = cities[['name', 'geometry']]\n",
    "\n",
    "# Merge city names and country names\n",
    "cities_with_country = gpd.sjoin(cities_names, country_names, how=\"inner\", op='within')\n",
    "cities_with_country.sample(5)"
   ]
  }
 ],
 "metadata": {
  "kernelspec": {
   "display_name": "Python 3",
   "language": "python",
   "name": "python3"
  },
  "language_info": {
   "codemirror_mode": {
    "name": "ipython",
    "version": 3
   },
   "file_extension": ".py",
   "mimetype": "text/x-python",
   "name": "python",
   "nbconvert_exporter": "python",
   "pygments_lexer": "ipython3",
   "version": "3.8.3"
  }
 },
 "nbformat": 4,
 "nbformat_minor": 4
}
